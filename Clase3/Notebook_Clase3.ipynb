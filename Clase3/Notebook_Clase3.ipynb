{
 "cells": [
  {
   "cell_type": "markdown",
   "id": "cd2d23c8-98ca-4194-9876-57d524d3a9d0",
   "metadata": {},
   "source": [
    "<div class=\"jumbotron m-0\">\n",
    "    <hr />\n",
    "    <h1 class=\"text-center\">\n",
    "        <span class=\"text-primary\">CLASE 3</span>\n",
    "    </h1>\n",
    "    <hr />\n",
    "</div>"
   ]
  },
  {
   "cell_type": "markdown",
   "id": "21818906-3e50-47e3-bb71-81675680fd22",
   "metadata": {},
   "source": [
    "<div>\n",
    "    <h2 class=\"text-center\">\n",
    "        <span class=\"text-primary\"></span>\n",
    "        &nbsp;\n",
    "        <span class=\"\">Preparar espacio de trabajo</span>\n",
    "    </h2>\n",
    "</div\n",
    "    "
   ]
  },
  {
   "cell_type": "raw",
   "id": "c282c904-7819-4f22-a07f-b4fd8726b442",
   "metadata": {},
   "source": [
    "mkdir -p ~/MiPrimerRobot_ws/src          ##Creo mi espacio de trabajo y mi carpeta src"
   ]
  },
  {
   "cell_type": "raw",
   "id": "993ff6a1-adcc-443c-b6c8-2e893fefd3ab",
   "metadata": {},
   "source": [
    "cd MiPrimerRobot_ws                      ##Ingreso a mi espacio de trabajo"
   ]
  },
  {
   "cell_type": "raw",
   "id": "635a409b-a416-4970-8973-916cce22dc3e",
   "metadata": {},
   "source": [
    "catkin_make                              ##Compilo mi espacio de trabajo"
   ]
  },
  {
   "cell_type": "raw",
   "id": "54cf312a-46d4-4b0c-b50a-7572d1fc8cc7",
   "metadata": {},
   "source": [
    "echo \"source ~/MiPrimerRobot_ws/devel/setup.bash\" >> ~/.bashrc  ##Ingreso es mi archivo de           configuración en el archivo .bashrc que se inicilizará cada vez que ejecute un terminal"
   ]
  },
  {
   "cell_type": "raw",
   "id": "f1174408-7174-4c59-a02a-d61b2a5ff9c8",
   "metadata": {},
   "source": [
    "source ~/.bashrc                        ##ejecuto archivo .bashrc"
   ]
  },
  {
   "cell_type": "markdown",
   "id": "3d4b7421-8c1a-466e-a340-fa0df4bfb3ce",
   "metadata": {},
   "source": [
    "<div>\n",
    "    <h2 class=\"text-center\">\n",
    "        <span class=\"text-primary\"></span>\n",
    "        &nbsp;\n",
    "        <span class=\"\">Creando mi primer paquete</span>\n",
    "    </h2>\n",
    "</div\n",
    "    "
   ]
  },
  {
   "cell_type": "markdown",
   "id": "b469ed4e-fed8-4f1a-bd3c-cf0dc901d730",
   "metadata": {},
   "source": [
    "Para crear mi primer paquete utilizo el comando:\n",
    "\n",
    "catkin_create_pkg package_name [dependency1] [dependency2]..."
   ]
  },
  {
   "cell_type": "raw",
   "id": "1ee3dd24-6da9-47fd-8a87-1a698d525984",
   "metadata": {},
   "source": [
    "cd ~/MiPrimerRobot_ws/src            ##ingreso a mi carpeta src, dentro de esta carpeta crearé mis                                            paqutees"
   ]
  },
  {
   "cell_type": "raw",
   "id": "dbc4b22d-bfcd-426e-b19e-ee91ff34bdc8",
   "metadata": {},
   "source": [
    "catkin_create_pkg mi_primer_paquete roscpp std_msgs"
   ]
  },
  {
   "cell_type": "markdown",
   "id": "d45abff8-ff95-4992-8287-dfd9687108c1",
   "metadata": {},
   "source": [
    "<div>\n",
    "    <h2 class=\"text-center\">\n",
    "        <span class=\"text-primary\"></span>\n",
    "        &nbsp;\n",
    "        <span class=\"\">Mi primer publicador</span>\n",
    "    </h2>\n",
    "</div\n",
    "    "
   ]
  },
  {
   "cell_type": "raw",
   "id": "7d7af6cb-f876-4396-b684-b8e6bf67ebf4",
   "metadata": {},
   "source": [
    "cd ~/MiPrimerRobot_ws/src/mi_primer_paquete/src "
   ]
  },
  {
   "cell_type": "raw",
   "id": "08303bee-6e0b-4560-95a5-e54f02ef50fc",
   "metadata": {},
   "source": [
    "touch publicador.cpp"
   ]
  },
  {
   "cell_type": "raw",
   "id": "ad12ed09-68c6-4eaf-8c9a-53b0b673f5b3",
   "metadata": {},
   "source": [
    "#include \"ros/ros.h\"\n",
    "\n",
    "#include \"std_msgs/Int16.h\"\n",
    "#include <iostream>\n",
    "\n",
    "//#include <sstream>\n",
    "\n",
    "int main(int argc, char **argv)\n",
    "{\n",
    "  /**\n",
    "   * La función ros::init() necesita ver argc y argv para que pueda funcionar\n",
    "   * cualquier argumento de ROS y reasignación de nombres que se proporcionaron en la línea de comandos.\n",
    "   * Para reasignaciones programáticas, puede usar una versión diferente de init() que toma\n",
    "   * reasignaciones directamente, pero para la mayoría de los programas de línea de comandos, pasar argc y argv es\n",
    "   * la forma más fácil de hacerlo. El tercer argumento de init() es el nombre del nodo.\n",
    "   *\n",
    "   * Debe llamar a una de las versiones de ros::init() antes de usar cualquier otra\n",
    "   * parte del sistema ROS.\n",
    "   */\n",
    "  ros::init(argc, argv, \"Comandos_de_velocidad\");\n",
    "\n",
    "  /**\n",
    "   * NodeHandle es el principal punto de acceso a las comunicaciones con el sistema ROS.\n",
    "   * El primer NodeHandle construido inicializará completamente este nodo, y el último\n",
    "   * NodeHandle destruido cerrará el nodo.\n",
    "   */\n",
    "  ros::NodeHandle n;\n",
    "\n",
    "  /**\n",
    "   * La función de publicidad () es cómo le dices a ROS que quieres\n",
    "   * publicar sobre un nombre de tema determinado. Esto invoca una llamada al ROS\n",
    "   * nodo maestro, que mantiene un registro de quién está publicando y quién\n",
    "   * se está suscribiendo. Después de realizar esta llamada de publicidad (), el maestro\n",
    "   * el nodo notificará a cualquiera que intente suscribirse a este nombre de tema,\n",
    "   * y ellos a su vez negociarán una conexión peer-to-peer con este\n",
    "   * nodo. advertir() devuelve un objeto Publisher que le permite\n",
    "   * publicar mensajes sobre ese tema a través de una llamada a la publicación(). Una vez\n",
    "   * todas las copias del objeto Publisher devuelto se destruyen, el tema\n",
    "   * se anulará automáticamente.\n",
    "   *\n",
    "   * El segundo parámetro para anunciar () es el tamaño de la cola de mensajes\n",
    "   * utilizado para publicar mensajes. Si los mensajes se publican más rápidamente\n",
    "   * de lo que podemos enviarlos, el número aquí especifica cuántos mensajes enviar\n",
    "   * amortiguar antes de tirar algunos.\n",
    "   */\n",
    "\n",
    "  ros::Publisher pub = n.advertise<std_msgs::Int16>(\"/cmd_vel\", 10);\n",
    "\n",
    "  ros::Rate loop_rate(10);\n",
    "\n",
    "  /**\n",
    "   * Un conteo de cuantos mensajes hemos enviado. Esto se usa para crear\n",
    "   * una cadena única para cada mensaje.\n",
    "   */\n",
    "\n",
    "  std_msgs::Int16 contador;\n",
    "  contador.data = 1;\n",
    "  while (ros::ok())\n",
    "  {\n",
    "    /**\n",
    "     * Este es un objeto de mensaje. Lo rellenas con datos y luego lo publicas.\n",
    "     */\n",
    "    // std_msgs::String msg;\n",
    "\n",
    "    ROS_INFO(\"Contador actual  = %d\", contador.data);\n",
    "\n",
    "    /**\n",
    "     * La función de publicación () es la forma en que envía mensajes. El parámetro\n",
    "     * es el objeto del mensaje. El tipo de este objeto debe coincidir con el tipo\n",
    "     * dado como un parámetro de plantilla para la llamada de publicidad<>(), como se hizo\n",
    "     * en el constructor anterior.\n",
    "     */\n",
    "    pub.publish(contador);\n",
    "    contador.data++;\n",
    "    loop_rate.sleep();\n",
    "  }\n",
    "\n",
    "  return 0;\n",
    "}"
   ]
  },
  {
   "cell_type": "markdown",
   "id": "c7e45f4d-dc11-41bb-b528-91170e1dcef8",
   "metadata": {},
   "source": [
    "<div>\n",
    "    <h2 class=\"text-center\">\n",
    "        <span class=\"text-primary\"></span>\n",
    "        &nbsp;\n",
    "        <span class=\"\">Mi primer subscriptor</span>\n",
    "    </h2>\n",
    "</div\n",
    "    "
   ]
  },
  {
   "cell_type": "raw",
   "id": "aad53003-bd9d-4673-a2f0-98448b173012",
   "metadata": {},
   "source": [
    "cd ~/MiPrimerRobot_ws/src/mi_primer_paquete/src "
   ]
  },
  {
   "cell_type": "raw",
   "id": "16649875-82d8-4cb7-a5f2-10706ff25c02",
   "metadata": {},
   "source": [
    "touch subscriptor.cpp"
   ]
  },
  {
   "cell_type": "raw",
   "id": "410f0834-e54a-4776-b569-96b9e26a8de4",
   "metadata": {},
   "source": [
    "#include \"ros/ros.h\"\n",
    "#include \"std_msgs/Int16.h\"\n",
    "\n",
    "void MyCallback(const std_msgs::Int16::ConstPtr& contador)\n",
    "{\n",
    "  ROS_INFO(\"Me ha llegado el valor de : [%d]\", contador->data);\n",
    "}\n",
    "\n",
    "int main(int argc, char **argv)\n",
    "{\n",
    "\n",
    "  ros::init(argc, argv, \"subscriptor\");\n",
    "\n",
    "\n",
    "  ros::NodeHandle n;\n",
    "\n",
    "  ros::Subscriber sub = n.subscribe(\"miTopico\", 1, MyCallback);\n",
    "\n",
    "\n",
    "  ros::spin();\n",
    "\n",
    "  return 0;\n",
    "}"
   ]
  },
  {
   "cell_type": "markdown",
   "id": "70e00e8d-a518-4789-8469-6106f115fbe3",
   "metadata": {},
   "source": [
    "<div>\n",
    "    <h2 class=\"text-center\">\n",
    "        <span class=\"text-primary\"></span>\n",
    "        &nbsp;\n",
    "        <span class=\"\">Compilo mi código</span>\n",
    "    </h2>\n",
    "</div"
   ]
  },
  {
   "cell_type": "markdown",
   "id": "0dc4cadc-4b5a-44ec-8191-0cc99bf486cb",
   "metadata": {},
   "source": [
    "Para poder compilar mi código necesito hacer unos cambios adicionales al archivo CMakeLists.txt de mi paquete, en la línea 150 añadir estas líneas"
   ]
  },
  {
   "cell_type": "markdown",
   "id": "ea190ddc-3f7c-4b08-9c7a-8e35bb399b54",
   "metadata": {},
   "source": [
    "add_executable(publicador src/publicador.cpp)\n",
    "target_link_libraries(publicador ${catkin_LIBRARIES})\n",
    "\n",
    "add_executable(subscriptor src/subscriptor.cpp)\n",
    "target_link_libraries(subscriptor ${catkin_LIBRARIES})"
   ]
  },
  {
   "cell_type": "markdown",
   "id": "bbb00c90-d7ff-4a2c-81cb-006820c5756a",
   "metadata": {},
   "source": [
    "finalmente ejecuto \"catkin_make\" desde mi espacio de trabajo"
   ]
  },
  {
   "cell_type": "markdown",
   "id": "b16b6134-bc37-48b2-ae00-92c045b9e612",
   "metadata": {},
   "source": [
    "<div>\n",
    "    <h2 class=\"text-center\">\n",
    "        <span class=\"text-primary\"></span>\n",
    "        &nbsp;\n",
    "        <span class=\"\">Ejecuto mis nodos</span>\n",
    "    </h2>\n",
    "</div"
   ]
  },
  {
   "cell_type": "raw",
   "id": "7db4c11d-0942-41fe-8908-0aa4c5ee4bf4",
   "metadata": {},
   "source": [
    "rosrun mi_primer_paquete publicador"
   ]
  },
  {
   "cell_type": "raw",
   "id": "f0c6ff13-8226-4ca3-b411-684e43c3e398",
   "metadata": {},
   "source": [
    "rosrun mi_primer_paquete subscriptor"
   ]
  },
  {
   "cell_type": "markdown",
   "id": "6f9f09c9-2f8b-434d-bb3e-c78e6e650201",
   "metadata": {},
   "source": [
    "<div>\n",
    "    <h2 class=\"text-center\">\n",
    "        <span class=\"text-primary\"></span>\n",
    "        &nbsp;\n",
    "        <span class=\"\">Interacción con un robot simulado en gazebo</span>\n",
    "    </h2>\n",
    "</div"
   ]
  },
  {
   "cell_type": "markdown",
   "id": "471bd53e-b485-467b-b2fc-30920d8420ba",
   "metadata": {},
   "source": [
    "Instalar gazebo"
   ]
  },
  {
   "cell_type": "raw",
   "id": "0a95b69c-8cef-48a4-b10f-cf09e9b00cad",
   "metadata": {},
   "source": [
    "https://classic.gazebosim.org/tutorials?tut=install_ubuntu"
   ]
  },
  {
   "cell_type": "markdown",
   "id": "f0b23cc1-5579-4885-b66e-6d564c5e97bc",
   "metadata": {},
   "source": [
    "Descargar paquetes de github que contendrán todo lo referente a la simulación"
   ]
  },
  {
   "cell_type": "markdown",
   "id": "42329eab-ba27-48e8-b057-d43ee25fdebd",
   "metadata": {},
   "source": [
    "cd ~                     ##me dirijo a mi carpeta de usuario"
   ]
  },
  {
   "cell_type": "raw",
   "id": "566a2a2e-4d5e-4479-8762-4827073e33df",
   "metadata": {},
   "source": [
    "git clone https://github.com/morg1207/Material_Curso_ROS.git"
   ]
  },
  {
   "cell_type": "raw",
   "id": "134ce691-193d-4bd4-8aa5-2a5329a7e553",
   "metadata": {},
   "source": [
    "cd ~/Material_Curso_ROS/simulacion_ws"
   ]
  },
  {
   "cell_type": "raw",
   "id": "dc7b4941-11fb-4f67-808d-af0907099611",
   "metadata": {},
   "source": [
    "catkin_make            ##compilo mi espacio de trabajo"
   ]
  },
  {
   "cell_type": "markdown",
   "id": "f7f7fead-e392-482e-80b6-67cba21cd797",
   "metadata": {},
   "source": [
    "configuro mi espacio de trabajo \"simulacion_ws\" descargado, esto lo realizaré solo una vez en mi terminal"
   ]
  },
  {
   "cell_type": "raw",
   "id": "3f72fa1c-d1c4-498f-8d91-8b0e846737ed",
   "metadata": {},
   "source": [
    "cd ~/Material_Curso_ROS/simulacion_ws"
   ]
  },
  {
   "cell_type": "raw",
   "id": "fc887165-abf0-4736-9653-e29c6591a947",
   "metadata": {},
   "source": [
    "source devel/setup.sh"
   ]
  },
  {
   "cell_type": "markdown",
   "id": "6ff09e69-bdf0-4715-8266-c450f19c4587",
   "metadata": {},
   "source": [
    "ejecuto mi archivo launch, para ejecutar la simulación en gazebo, todo esto lo tengo que realizar desde el mismo terminal configurado"
   ]
  },
  {
   "cell_type": "raw",
   "id": "a21ea176-10fd-4ef4-9032-3b634e161c0d",
   "metadata": {},
   "source": [
    "roslaunch realrobotlab main.launch"
   ]
  },
  {
   "cell_type": "markdown",
   "id": "6752162f-8691-402b-86ad-62bdcb0880d9",
   "metadata": {},
   "source": [
    "<div>\n",
    "    <h2 class=\"text-center\">\n",
    "        <span class=\"text-primary\"></span>\n",
    "        &nbsp;\n",
    "        <span class=\"\">Creando un nodo que interactue con gazebo</span>\n",
    "    </h2>\n",
    "</div"
   ]
  },
  {
   "cell_type": "raw",
   "id": "d9bff6e0-8461-45c6-849a-65d24a243016",
   "metadata": {},
   "source": [
    "cd ~/MiPrimerRobot_ws/src/mi_primer_paquete/src "
   ]
  },
  {
   "cell_type": "raw",
   "id": "f1d6158a-bcd6-4d3d-a1d9-3ab91b8c0604",
   "metadata": {},
   "source": [
    "touch RotarRobot.cpp"
   ]
  },
  {
   "cell_type": "raw",
   "id": "65c5d4bc-3028-458c-8c74-6e699c29d533",
   "metadata": {},
   "source": [
    "#include \"ros/ros.h\"\n",
    "\n",
    "#include <geometry_msgs/Twist.h>\n",
    "#include <iostream>\n",
    "\n",
    "//#include <sstream>\n",
    "\n",
    "\n",
    "int main(int argc, char **argv)\n",
    "{\n",
    "  /**\n",
    "   * La función ros::init() necesita ver argc y argv para que pueda funcionar\n",
    "   * cualquier argumento de ROS y reasignación de nombres que se proporcionaron en la línea de comandos.\n",
    "   * Para reasignaciones programáticas, puede usar una versión diferente de init() que toma\n",
    "   * reasignaciones directamente, pero para la mayoría de los programas de línea de comandos, pasar argc y argv es\n",
    "   * la forma más fácil de hacerlo. El tercer argumento de init() es el nombre del nodo.\n",
    "   *\n",
    "   * Debe llamar a una de las versiones de ros::init() antes de usar cualquier otra\n",
    "   * parte del sistema ROS.\n",
    "   */\n",
    "  ros::init(argc, argv, \"Comandos_de_velocidad\");\n",
    "\n",
    "  /**\n",
    "   * NodeHandle es el principal punto de acceso a las comunicaciones con el sistema ROS.\n",
    "   * El primer NodeHandle construido inicializará completamente este nodo, y el último\n",
    "   * NodeHandle destruido cerrará el nodo.\n",
    "   */\n",
    "  ros::NodeHandle n;\n",
    "\n",
    "  /**\n",
    "   * La función de publicidad () es cómo le dices a ROS que quieres\n",
    "   * publicar sobre un nombre de tema determinado. Esto invoca una llamada al ROS\n",
    "   * nodo maestro, que mantiene un registro de quién está publicando y quién\n",
    "   * se está suscribiendo. Después de realizar esta llamada de publicidad (), el maestro\n",
    "   * el nodo notificará a cualquiera que intente suscribirse a este nombre de tema,\n",
    "   * y ellos a su vez negociarán una conexión peer-to-peer con este\n",
    "   * nodo. advertir() devuelve un objeto Publisher que le permite\n",
    "   * publicar mensajes sobre ese tema a través de una llamada a la publicación(). Una vez\n",
    "   * todas las copias del objeto Publisher devuelto se destruyen, el tema\n",
    "   * se anulará automáticamente.\n",
    "   *\n",
    "   * El segundo parámetro para anunciar () es el tamaño de la cola de mensajes\n",
    "   * utilizado para publicar mensajes. Si los mensajes se publican más rápidamente\n",
    "   * de lo que podemos enviarlos, el número aquí especifica cuántos mensajes enviar\n",
    "   * amortiguar antes de tirar algunos.\n",
    "   */\n",
    "\n",
    "  ros::Publisher pub = n.advertise<geometry_msgs::Twist>(\"/cmd_vel\", 10);\n",
    "\n",
    "  ros::Rate loop_rate(10);\n",
    "\n",
    "   /**\n",
    "   * Un conteo de cuantos mensajes hemos enviado. Esto se usa para crear\n",
    "   * una cadena única para cada mensaje.\n",
    "   */\n",
    "\n",
    "  geometry_msgs::Twist vel_msg;\n",
    "  \n",
    "  vel_msg.angular.z = 0.1;\n",
    "  vel_msg.linear.x = 0.0;\n",
    "  while (ros::ok())\n",
    "  {\n",
    "    /**\n",
    "     * Este es un objeto de mensaje. Lo rellenas con datos y luego lo publicas.\n",
    "     */\n",
    "    //std_msgs::String msg;\n",
    "    \n",
    "    ROS_INFO(\"Robot realizando circulos con velocidades : \");\n",
    "    ROS_INFO(\"Velocidad lineal eje x  = %f\",vel_msg.linear.x);\n",
    "    ROS_INFO(\"Velocidad angular eje z  = %f\",vel_msg.angular.z);\n",
    "  \n",
    "    /**\n",
    "     * La función de publicación () es la forma en que envía mensajes. El parámetro\n",
    "     * es el objeto del mensaje. El tipo de este objeto debe coincidir con el tipo\n",
    "     * dado como un parámetro de plantilla para la llamada de publicidad<>(), como se hizo\n",
    "     * en el constructor anterior.\n",
    "     */\n",
    "    pub.publish(vel_msg);\n",
    "             \n",
    "    loop_rate.sleep();\n",
    "    \n",
    "  }\n",
    "\n",
    "\n",
    "  return 0;\n",
    "}"
   ]
  },
  {
   "cell_type": "markdown",
   "id": "37f8f20a-aae0-4970-9725-139e493a7ca0",
   "metadata": {},
   "source": [
    "edito mi archivo CMakeLists.txt"
   ]
  },
  {
   "cell_type": "raw",
   "id": "52717937-daa5-4833-b8a8-e497e339e28d",
   "metadata": {},
   "source": [
    "add_executable(RotarRobot src/RotarRobot.cpp)\n",
    "target_link_libraries(RotarRobot ${catkin_LIBRARIES})"
   ]
  },
  {
   "cell_type": "markdown",
   "id": "34f2af85-f2c3-418c-90eb-69e2aeffb3c3",
   "metadata": {},
   "source": [
    "ejecuto mis nodo"
   ]
  },
  {
   "cell_type": "code",
   "execution_count": null,
   "id": "547bb8b4-92df-4930-9ade-ff8a995370e5",
   "metadata": {},
   "outputs": [],
   "source": [
    "rosrun mi_primer_paquete RotarRobot"
   ]
  }
 ],
 "metadata": {
  "kernelspec": {
   "display_name": "Python 3 (ipykernel)",
   "language": "python",
   "name": "python3"
  },
  "language_info": {
   "codemirror_mode": {
    "name": "ipython",
    "version": 3
   },
   "file_extension": ".py",
   "mimetype": "text/x-python",
   "name": "python",
   "nbconvert_exporter": "python",
   "pygments_lexer": "ipython3",
   "version": "3.8.10"
  }
 },
 "nbformat": 4,
 "nbformat_minor": 5
}
